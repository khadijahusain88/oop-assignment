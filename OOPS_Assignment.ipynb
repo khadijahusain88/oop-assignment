{
  "nbformat": 4,
  "nbformat_minor": 0,
  "metadata": {
    "colab": {
      "provenance": []
    },
    "kernelspec": {
      "name": "python3",
      "display_name": "Python 3"
    },
    "language_info": {
      "name": "python"
    }
  },
  "cells": [
    {
      "cell_type": "markdown",
      "source": [
        "**THEORETICAL QUESTIONS**\n",
        "\n",
        "1)What is object oriented programming?\n",
        "\n",
        "Ans) OOPS, it is a programming based on concept of objects which can contain data and code that manipulates that data.It aims to model real world entities and their interactions within a software system.\n",
        "\n",
        "2) What is a class in OOPS?\n",
        "\n",
        "Ans|) BLUEPRINTS OR TEMPLATES FOR CREATING OBJECTS.THEY DEFINE THE  PROPERTIES AND BEHAVIOURS THAT OBJECT OF THAT CLASS WILL POSSESS.\n",
        "\n",
        "3) What is an object in OOPS?\n",
        "\n",
        "Ans) Instances of the class. They are concrete entities created based on the class blueprint ,each having its own unique set of attribute values.\n",
        "\n",
        "4) What is difference between abstraction and encapsulation?\n",
        "\n",
        "Ans) Abstraction focuses on what an object does,hiding implementation details,while encapsulation focuses on how an objects data and methods are bundled together,controlling access to them.\n",
        "\n",
        "5) What are dunder methods in Python?\n",
        "\n",
        "Ans) Dunder methods also known as magic methods are predefined methods in Pyhton that have double underscores(or dunders) at the begining and ending of their names such as __init__,__str__and__add__. These methods allow you to define specific behaviours for built-in operationswhen applied to instances of your custom classes.\n",
        "\n",
        "6) Explain the concept of inheritance in OOPS?\n",
        "\n",
        "Ans) It is a fundamental concept that allows a new class to acquire the properties and behaviour of an existing class.This establishes hierarchical relationship between classes,promoting code reuse and organisation.\n",
        "\n",
        "7) What is Polymorphism in OOPS?\n",
        "\n",
        "Ans) Polymorphusem refers to an object taking several forms depending on method or data. It allows for increased code reusability,flexibility and maintainability by enabling the common user interface to be used for different underlying implementations.\n",
        "\n",
        "8) How is encapsulation achieved in Pyhton?\n",
        "\n",
        "Ans) It is achievevd in python througf the practice of buildung data and the methods that perate on that data within a single unit,which is a class .It also involves conntrolling access to these attributes and methods ,ensuring that the internal state of an object is managed and protected.\n",
        "\n",
        "9) What is a constuctor in Pyhton?\n",
        "\n",
        "Ans) A constructor ias aspecial method used to initialise objects when they are created from a class .The primary purpose is to set uo a initial state of the object ,typically by assigning values to its attributes.\n",
        "\n",
        "10)  What are class and static methods in Python?\n",
        "\n",
        "Ans) Class methods: They are bound to the class itself, not to a specific instance of the class. You can call them directly on the class (e.g., ClassName.method_name()) or through an instance.\n",
        "They are defined using the @classmethod decorator.\n",
        "The first parameter of a class method is conventionally named cls, which refers to the class itself, allowing access to class attributes and methods.\n",
        "\n",
        "Static methods\n",
        "Static methods are functions within a class that are not bound to the class or any instance.\n",
        "They are defined using the @staticmethod decorator.\n",
        "Unlike class or instance methods, static methods do not receive the class (cls) or instance (self) as their first parameter.\n",
        "They cannot directly access or modify instance or class attributes.\n",
        "\n",
        "11) What is method overloading in Python?\n",
        "\n",
        "Ans) Method overloading in Python refers to the concept where a single method name can be used to perform different actions based on the number or type of arguments passed to it. Unlike some other programming languages, Python does not support traditional method overloading where you can define multiple methods with the same name but different parameter lists within a single class.\n",
        "\n",
        "12) What is method overriding in OOP?\n",
        "\n",
        "Ans) Method overriding in object-oriented programming is when a subclass provides a specific implementation of a method that is already defined in its parent class. This allows the subclass to customize the behavior of inherited methods, providing a specialized version of the method's functionality.\n",
        "\n",
        "13) What is a property decorator in Python?\n",
        "\n",
        "Ans)The @property decorator in Python is a built-in decorator that allows methods within a class to be accessed and managed like attributes, providing a more \"Pythonic\" way to handle getters, setters, and deleters for class attributes.\n",
        "\n",
        "14) Why is polymorphism important in OOP?\n",
        "\n",
        "Ans) Polymorphism is crucial in object-oriented programming (OOP) because it enables code flexibility, reusability, and maintainability by allowing objects of different types to be treated as objects of a common type. This means you can write code that works with a general interface, without needing to know the specific type of object it's interacting with, leading to more adaptable and efficient software.\n",
        "\n",
        "15) What is an abstract class in Python?\n",
        "\n",
        "Ans) An abstract class in Python is a class that cannot be instantiated directly and is designed to be subclassed. It serves as a blueprint or a common interface for other classes, enforcing a specific structure and ensuring that derived classes implement certain methods.\n",
        "\n",
        "16) What are the advantages of OOP?\n",
        "\n",
        "Ans) Object-Oriented Programming (OOP) offers several advantages, including improved code organization, reusability, flexibility, and maintainability. OOP achieves these benefits through concepts like encapsulation, inheritance, and polymorphism. By modeling real-world entities as objects, OOP simplifies complex systems and promotes modularity, making it easier to develop, understand, and maintain software.\n",
        "\n",
        "17) What is the difference between a class variable and an instance variable?\n",
        "\n",
        "Ans) Class Variable:\n",
        "A class variable belongs to the class itself, not to any specific instance. It is shared by all instances of that class. Any change to a class variable will be reflected in all instances.\n",
        "\n",
        "Instance Variable:\n",
        "An instance variable belongs to a specific instance (object) of a class. Each instance has its own independent copy of the instance variables. Changes to an instance variable in one object do not affect the same variable in other objects.\n",
        "\n",
        "18) What is multiple inheritance in Python?\n",
        "\n",
        "Ans) Multiple inheritance in Python is a feature of object-oriented programming that allows a class to inherit attributes and methods from more than one parent (or base) class. This means a single child class can combine functionalities and characteristics from multiple distinct sources.\n",
        "\n",
        "20) What is the significance of the super() function in Python?\n",
        "\n",
        "Ans) The super() function in Python holds significant importance in the context of object-oriented programming, particularly concerning inheritance. Its primary significance lies in providing a mechanism to access methods and attributes of a parent or superclass from a child or subclass.\n",
        "\n",
        "21) What is the significance of the __del__ method in ?\n",
        "\n",
        "Ans) The __del__ method in Python, also known as the destructor, is a special method that is automatically called when an object is about to be destroyed, typically during garbage collection. Its significance lies in providing a mechanism to perform cleanup actions or release resources held by an object before its memory is reclaimed.\n",
        "\n",
        "22) What is the difference between @staticmethod and @classmethod in Python?\n",
        "\n",
        "Ans)Class metod\n",
        "\n",
        "A class method automatically receives the class itself as its first argument, conventionally named cls.\n",
        "Purpose:\n",
        "Class methods are bound to the class and are primarily used for operations that involve class-level data or\n",
        "\n",
        "Static metod:\n",
        "A static method does not receive any implicit first argument (neither the instance self nor the class cls).\n",
        "Purpose:\n",
        "Static methods are essentially regular functions that are logically grouped within a class because they are related to the class's functionality, but they do not depend on the class's state or instance-specific data.\n",
        "\n",
        "23) How does polymorphism work in Python with inheritance?\n",
        "\n",
        "Ans) Inheritance:\n",
        "\n",
        "A child (or derived) class inherits methods and attributes from its parent (or base) class. This establishes a \"is-a\" relationship, where the child class is a more specific type of the parent class.\n",
        "Method Overriding:\n",
        "The core of polymorphism with inheritance lies in the ability of a child class to redefine a method that it inherited from its parent class. This redefinition uses the exact same method name and signature (parameters) as the parent's method.\n",
        "\n",
        "Dynamic Binding (Late Binding):\n",
        "\n",
        "When you call a method on an object, Python determines which specific implementation of that method to execute at runtime, based on the actual type of the object, not just the type of the variable holding the object. If the object is an instance of a child class that has overridden a method, the child class's version of the method will be called. If the child class has not overridden the method, the parent class's version will be called.\n",
        "\n",
        "24) What is method chaining in Python OOP?\n",
        "\n",
        "Ans) Method chaining in Python Object-Oriented Programming (OOP) is a technique that allows for the sequential invocation of multiple methods on the same object within a single line of code. This is achieved by having each method in the chain return the object itself (typically self) after performing its action.\n",
        "\n",
        "25) What is the purpose of the __call__ method in Python?\n",
        "\n",
        "Ans)The __call__ method in Python allows instances of a class to be invoked or called as if they were regular functions. When this method is defined within a class, calling an object of that class (e.g., my_object()) automatically triggers the execution of the __call__ method.\n",
        "\n"
      ],
      "metadata": {
        "id": "rVVo3qXnTydt"
      }
    },
    {
      "cell_type": "markdown",
      "source": [
        "**PRACTCAL QUESTIONS**\n",
        "\n",
        "1) Create a parent class animal() with a method speak() that prints a generic message.Create a child class Dog that overrides the speak ()method to print \"bark\"\n",
        "\n"
      ],
      "metadata": {
        "id": "-s3JPZJBbgHs"
      }
    },
    {
      "cell_type": "code",
      "source": [
        "class Animal:\n",
        "  def speak(self):\n",
        "    print(\"Inside the Animal class\")\n",
        "class Dog(Animal):\n",
        "  def speak(self):\n",
        "    print(\"Bark\")"
      ],
      "metadata": {
        "id": "mm1w8tA_cOtk"
      },
      "execution_count": null,
      "outputs": []
    },
    {
      "cell_type": "code",
      "source": [
        "ani1 = Dog()\n",
        "ani1.speak()"
      ],
      "metadata": {
        "colab": {
          "base_uri": "https://localhost:8080/"
        },
        "id": "yYPaYg6VdR6b",
        "outputId": "715aa83f-1ec6-4f48-b91f-bb68369e23b2"
      },
      "execution_count": null,
      "outputs": [
        {
          "output_type": "stream",
          "name": "stdout",
          "text": [
            "Bark\n"
          ]
        }
      ]
    },
    {
      "cell_type": "markdown",
      "source": [
        "2) Write a program to create an abstract class shape with a method area(). Derive classes circle and rectangle from it and implement the area() in both."
      ],
      "metadata": {
        "id": "qZdzF7XcdjG7"
      }
    },
    {
      "cell_type": "code",
      "source": [
        "import abc\n",
        "\n",
        "class Shape:\n",
        "  @abc.abstractmethod\n",
        "  def area(self):\n",
        "    pass\n",
        "\n",
        "class Circle(Shape):\n",
        "  def area(self):\n",
        "    print(\"area of circle is 3.14*r**2\")\n",
        "class Rectangle(Shape):\n",
        "  def area(self):\n",
        "    print(\"area of rectangle is l*b\")\n"
      ],
      "metadata": {
        "id": "CFUuVIfQdaDy"
      },
      "execution_count": null,
      "outputs": []
    },
    {
      "cell_type": "code",
      "source": [
        "obj1 = Circle()\n",
        "obj1.area()\n"
      ],
      "metadata": {
        "colab": {
          "base_uri": "https://localhost:8080/"
        },
        "id": "PGGhv4w8f9Fk",
        "outputId": "2a8a54b4-0623-4b27-f442-bf4d259a6be7"
      },
      "execution_count": null,
      "outputs": [
        {
          "output_type": "stream",
          "name": "stdout",
          "text": [
            "area of circle is 3.14*r**2\n"
          ]
        }
      ]
    },
    {
      "cell_type": "code",
      "source": [
        "obj2 = Rectangle()\n",
        "obj2.area()"
      ],
      "metadata": {
        "colab": {
          "base_uri": "https://localhost:8080/"
        },
        "id": "dmrIVSA1gM_y",
        "outputId": "ec995935-043f-41d0-8397-974601f05415"
      },
      "execution_count": null,
      "outputs": [
        {
          "output_type": "stream",
          "name": "stdout",
          "text": [
            "area of rectangle is l*b\n"
          ]
        }
      ]
    },
    {
      "cell_type": "markdown",
      "source": [
        "3)  Implement a multi-level inheritance scenario where a class Vehicle has an attribute type. Derive a class Car\n",
        "and further derive a class ElectricCar that adds a battery attribute.\n",
        "\n"
      ],
      "metadata": {
        "id": "pyOOmTd5BgdN"
      }
    },
    {
      "cell_type": "code",
      "source": [
        "class Vehicle:\n",
        "  vehicle1 = \"fourwheeler\"\n",
        "  def vehicle_info(self):\n",
        "    return self.vehicle1\n",
        "\n",
        "class Car(Vehicle):\n",
        "  car1 =\"maruti\"\n",
        "  def car_info(self):\n",
        "    return self.car1\n",
        "\n",
        "class ElectricCar(Car):\n",
        "  battery = 80\n",
        "  def battery_info(self):\n",
        "    return self.battery\n"
      ],
      "metadata": {
        "id": "6GbfHa5QJse5"
      },
      "execution_count": null,
      "outputs": []
    },
    {
      "cell_type": "code",
      "source": [
        "c1 = Vehicle()\n",
        "c1.vehicle_info()"
      ],
      "metadata": {
        "colab": {
          "base_uri": "https://localhost:8080/",
          "height": 36
        },
        "id": "KVAOwMv3JseQ",
        "outputId": "39b1c965-5086-4840-b1ee-c1f95e84c3ea"
      },
      "execution_count": null,
      "outputs": [
        {
          "output_type": "execute_result",
          "data": {
            "text/plain": [
              "'fourwheeler'"
            ],
            "application/vnd.google.colaboratory.intrinsic+json": {
              "type": "string"
            }
          },
          "metadata": {},
          "execution_count": 34
        }
      ]
    },
    {
      "cell_type": "code",
      "source": [
        "c2 = Car()\n",
        "c2.car_info()"
      ],
      "metadata": {
        "colab": {
          "base_uri": "https://localhost:8080/",
          "height": 36
        },
        "id": "ojL9Fam9JsdH",
        "outputId": "88461274-b365-4db7-8b95-b00c89730db4"
      },
      "execution_count": null,
      "outputs": [
        {
          "output_type": "execute_result",
          "data": {
            "text/plain": [
              "'maruti'"
            ],
            "application/vnd.google.colaboratory.intrinsic+json": {
              "type": "string"
            }
          },
          "metadata": {},
          "execution_count": 35
        }
      ]
    },
    {
      "cell_type": "code",
      "source": [
        "c3 = ElectricCar()\n",
        "c3.battery_info()"
      ],
      "metadata": {
        "colab": {
          "base_uri": "https://localhost:8080/"
        },
        "id": "GC2UtGYYJscH",
        "outputId": "68bb9d04-5efe-4a05-b0dd-963c84c2fa21"
      },
      "execution_count": null,
      "outputs": [
        {
          "output_type": "execute_result",
          "data": {
            "text/plain": [
              "80"
            ]
          },
          "metadata": {},
          "execution_count": 36
        }
      ]
    },
    {
      "cell_type": "code",
      "source": [
        "c3.vehicle_info()"
      ],
      "metadata": {
        "colab": {
          "base_uri": "https://localhost:8080/",
          "height": 36
        },
        "id": "5MMzUmNuMM3W",
        "outputId": "9bb64eef-5501-4d74-d9c6-fa5c55e6b8d7"
      },
      "execution_count": null,
      "outputs": [
        {
          "output_type": "execute_result",
          "data": {
            "text/plain": [
              "'fourwheeler'"
            ],
            "application/vnd.google.colaboratory.intrinsic+json": {
              "type": "string"
            }
          },
          "metadata": {},
          "execution_count": 37
        }
      ]
    },
    {
      "cell_type": "code",
      "source": [
        "c3.car_info()"
      ],
      "metadata": {
        "colab": {
          "base_uri": "https://localhost:8080/",
          "height": 36
        },
        "id": "rn87RJLcMRju",
        "outputId": "c35167cb-9601-4571-eccb-e2d4977a89eb"
      },
      "execution_count": null,
      "outputs": [
        {
          "output_type": "execute_result",
          "data": {
            "text/plain": [
              "'maruti'"
            ],
            "application/vnd.google.colaboratory.intrinsic+json": {
              "type": "string"
            }
          },
          "metadata": {},
          "execution_count": 38
        }
      ]
    },
    {
      "cell_type": "markdown",
      "source": [
        "4) Demonstrate polymorphism by creating a base class Bird with a method fly(). Create two derived classes\n",
        "Sparrow and Penguin that override the fly() method.\n"
      ],
      "metadata": {
        "id": "wXwP2FYzMlhP"
      }
    },
    {
      "cell_type": "code",
      "source": [
        "class Bird:\n",
        "  def fly(self):\n",
        "    print(\"Birds can fly\")\n",
        "\n",
        "class Sparrow(Bird):\n",
        "  def fly(self):\n",
        "    print(\"Sparrow can fly high\")\n",
        "\n",
        "class Penguin(Bird):\n",
        "  def fly(self):\n",
        "    print(\"Pnenguin is a flightless bird\")"
      ],
      "metadata": {
        "id": "mGcGoVLpMVh-"
      },
      "execution_count": null,
      "outputs": []
    },
    {
      "cell_type": "code",
      "source": [
        "b1 = Bird()\n",
        "b1.fly()"
      ],
      "metadata": {
        "colab": {
          "base_uri": "https://localhost:8080/"
        },
        "id": "brwO8h2B4_Am",
        "outputId": "7a1dee11-72ab-40d3-d6c0-47c12fcc28a5"
      },
      "execution_count": null,
      "outputs": [
        {
          "output_type": "stream",
          "name": "stdout",
          "text": [
            "Birds can fly\n"
          ]
        }
      ]
    },
    {
      "cell_type": "code",
      "source": [
        "b2 = Penguin()\n",
        "b2.fly()"
      ],
      "metadata": {
        "colab": {
          "base_uri": "https://localhost:8080/"
        },
        "id": "Yh_SDmEW5JrN",
        "outputId": "3a903392-96c9-4e65-ee5b-fa9d5aa022d2"
      },
      "execution_count": null,
      "outputs": [
        {
          "output_type": "stream",
          "name": "stdout",
          "text": [
            "Pnenguin is a flightless bird\n"
          ]
        }
      ]
    },
    {
      "cell_type": "code",
      "source": [
        "b3 = Sparrow()\n",
        "b3.fly()"
      ],
      "metadata": {
        "colab": {
          "base_uri": "https://localhost:8080/"
        },
        "id": "Bpq00mkQ5QJ1",
        "outputId": "a693886f-44cb-43c5-8791-bd70001454bd"
      },
      "execution_count": null,
      "outputs": [
        {
          "output_type": "stream",
          "name": "stdout",
          "text": [
            "Sparrow can fly high\n"
          ]
        }
      ]
    },
    {
      "cell_type": "markdown",
      "source": [
        "5) Write a program to demonstrate encapsulation by creating a class BankAccount with private attributes\n",
        "balance and methods to deposit, withdraw, and check balance."
      ],
      "metadata": {
        "id": "6LUWNkwA5eWn"
      }
    },
    {
      "cell_type": "code",
      "source": [
        "class BankAccount:\n",
        "  def __init__(self,balance):\n",
        "    self.__balance = balance\n",
        "  def deposit(self,amount):\n",
        "    self.__balance = self.__balance + amount\n",
        "  def withdraw(self,amount):\n",
        "    if self.__balance >=amount:\n",
        "      self.__balance = self.__balance - amount\n",
        "      return True\n",
        "    else:\n",
        "      return False\n",
        "  def get_balance(self):\n",
        "    return self.__balance\n",
        "  def check_balance(self):\n",
        "    print(\"Account balance\",{self.__balance})\n",
        "\n",
        "\n"
      ],
      "metadata": {
        "id": "JChBhaNf5Z5d"
      },
      "execution_count": null,
      "outputs": []
    },
    {
      "cell_type": "code",
      "source": [
        "p1 = BankAccount(3000)"
      ],
      "metadata": {
        "id": "ryXJoqeICYBF"
      },
      "execution_count": null,
      "outputs": []
    },
    {
      "cell_type": "code",
      "source": [
        "p1.get_balance()"
      ],
      "metadata": {
        "colab": {
          "base_uri": "https://localhost:8080/"
        },
        "id": "u7K1AxA7Cd8c",
        "outputId": "b1284ab2-3ca6-491b-cbd6-b595ed2e8c9e"
      },
      "execution_count": null,
      "outputs": [
        {
          "output_type": "execute_result",
          "data": {
            "text/plain": [
              "3000"
            ]
          },
          "metadata": {},
          "execution_count": 21
        }
      ]
    },
    {
      "cell_type": "code",
      "source": [
        "p1.deposit(3000)"
      ],
      "metadata": {
        "id": "7osfpDz7ChPE"
      },
      "execution_count": null,
      "outputs": []
    },
    {
      "cell_type": "code",
      "source": [
        "p1.get_balance()"
      ],
      "metadata": {
        "colab": {
          "base_uri": "https://localhost:8080/"
        },
        "id": "zHYvx9VHCmzk",
        "outputId": "0d92c3f8-179e-4fe5-f905-6678e7712786"
      },
      "execution_count": null,
      "outputs": [
        {
          "output_type": "execute_result",
          "data": {
            "text/plain": [
              "6000"
            ]
          },
          "metadata": {},
          "execution_count": 23
        }
      ]
    },
    {
      "cell_type": "code",
      "source": [
        "p1.withdraw(200)"
      ],
      "metadata": {
        "colab": {
          "base_uri": "https://localhost:8080/"
        },
        "id": "cFnkcpJDCsA0",
        "outputId": "02d86059-81f4-4124-f4e0-8b33683eb4b6"
      },
      "execution_count": null,
      "outputs": [
        {
          "output_type": "execute_result",
          "data": {
            "text/plain": [
              "True"
            ]
          },
          "metadata": {},
          "execution_count": 24
        }
      ]
    },
    {
      "cell_type": "code",
      "source": [
        "p1.check_balance()"
      ],
      "metadata": {
        "colab": {
          "base_uri": "https://localhost:8080/"
        },
        "id": "uXy4cXnVCyzs",
        "outputId": "e994681f-6a6e-4f84-9db7-2dd0cab45f3a"
      },
      "execution_count": null,
      "outputs": [
        {
          "output_type": "stream",
          "name": "stdout",
          "text": [
            "Account balance {5800}\n"
          ]
        }
      ]
    },
    {
      "cell_type": "markdown",
      "source": [
        "6) Demonstrate runtime polymorphism using a method play() in a base class Instrument. Derive classes Guitar\n",
        "and Piano that implement their own version of play()."
      ],
      "metadata": {
        "id": "Kz1lAd8ODPM4"
      }
    },
    {
      "cell_type": "code",
      "source": [
        "class Instrument:\n",
        "  def play(self):\n",
        "    print(\"instrument plays a magical sound\")\n",
        "class Guitar(Instrument):\n",
        "  def play(self):\n",
        "    print(\"Guitar plays a rhythemic sound\")\n",
        "class Piano(Instrument):\n",
        "  def play(self):\n",
        "    print(\"piano plays a pianic sound\")\n",
        "sound = [Guitar(),Piano(),Instrument()]\n",
        "for i in sound:\n",
        "  print(i.play())"
      ],
      "metadata": {
        "colab": {
          "base_uri": "https://localhost:8080/"
        },
        "id": "Uk48SROuDl9G",
        "outputId": "a71b96d5-71f3-4770-9f91-5e54e1d9d706"
      },
      "execution_count": null,
      "outputs": [
        {
          "output_type": "stream",
          "name": "stdout",
          "text": [
            "Guitar plays a rhythemic sound\n",
            "None\n",
            "piano plays a pianic sound\n",
            "None\n",
            "instrument plays a magical sound\n",
            "None\n"
          ]
        }
      ]
    },
    {
      "cell_type": "markdown",
      "source": [
        "*7*) Create a class MathOperations with a class method add_numbers() to add two numbers and a static\n",
        "method subtract_numbers() to subtract two numbers"
      ],
      "metadata": {
        "id": "7-PLuUkBJoKN"
      }
    },
    {
      "cell_type": "code",
      "source": [
        "class MathOperations:\n",
        "  def __init__(self,x,y):\n",
        "    self.x = x\n",
        "    self.y = y\n",
        "\n",
        "  @classmethod\n",
        "  def add_numbers(cls,x,y):\n",
        "    return x+y\n",
        "  @staticmethod\n",
        "  def substract(x,y):\n",
        "    return x-y"
      ],
      "metadata": {
        "id": "wEI851e7MJqs"
      },
      "execution_count": null,
      "outputs": []
    },
    {
      "cell_type": "code",
      "source": [
        " MathOperations.add_numbers(5,7)"
      ],
      "metadata": {
        "colab": {
          "base_uri": "https://localhost:8080/"
        },
        "id": "v8RLCJISQbqU",
        "outputId": "96e04c6e-a4d1-4e21-bd35-902bcfed964e"
      },
      "execution_count": null,
      "outputs": [
        {
          "output_type": "execute_result",
          "data": {
            "text/plain": [
              "12"
            ]
          },
          "metadata": {},
          "execution_count": 46
        }
      ]
    },
    {
      "cell_type": "code",
      "source": [
        "MathOperations.substract(4,9)"
      ],
      "metadata": {
        "colab": {
          "base_uri": "https://localhost:8080/"
        },
        "id": "_WUrvB8aR_Wo",
        "outputId": "22a6f7e3-54b1-4f73-8852-ddfc5e5557f0"
      },
      "execution_count": null,
      "outputs": [
        {
          "output_type": "execute_result",
          "data": {
            "text/plain": [
              "-5"
            ]
          },
          "metadata": {},
          "execution_count": 49
        }
      ]
    },
    {
      "cell_type": "markdown",
      "source": [
        "8) Implement a class Person with a class method to count the total number of persons created"
      ],
      "metadata": {
        "id": "emxCsg1FTUzQ"
      }
    },
    {
      "cell_type": "code",
      "source": [
        "class Person:\n",
        "  total_persons = 0\n",
        "  def __init__(self,name):\n",
        "    self.name = name\n",
        "    Person.total_persons = Person.total_persons + 1\n",
        "  @classmethod\n",
        "  def get_total_persons(cls):\n",
        "    return cls.total_persons\n"
      ],
      "metadata": {
        "id": "yeYMmBHyc-cD"
      },
      "execution_count": null,
      "outputs": []
    },
    {
      "cell_type": "code",
      "source": [
        "Person.total_persons"
      ],
      "metadata": {
        "colab": {
          "base_uri": "https://localhost:8080/"
        },
        "id": "PlhxBOeUc-ac",
        "outputId": "b20e37bb-16de-4418-aaae-807ecea89559"
      },
      "execution_count": null,
      "outputs": [
        {
          "output_type": "execute_result",
          "data": {
            "text/plain": [
              "0"
            ]
          },
          "metadata": {},
          "execution_count": 51
        }
      ]
    },
    {
      "cell_type": "code",
      "source": [
        "obj1 = Person(\"Khadija\")\n",
        "obj2 = Person(\"Murtaza\")\n",
        "obj3 = Person(\"Fakhruddin\")\n",
        "obj4 = Person(\"Husaina\")"
      ],
      "metadata": {
        "id": "fGpBEAEWfUWu"
      },
      "execution_count": null,
      "outputs": []
    },
    {
      "cell_type": "code",
      "source": [
        "Person.total_persons"
      ],
      "metadata": {
        "colab": {
          "base_uri": "https://localhost:8080/"
        },
        "id": "sFK-zqqmfUV0",
        "outputId": "7c691c5f-5c41-4eb7-918c-efcc291913cb"
      },
      "execution_count": null,
      "outputs": [
        {
          "output_type": "execute_result",
          "data": {
            "text/plain": [
              "4"
            ]
          },
          "metadata": {},
          "execution_count": 53
        }
      ]
    },
    {
      "cell_type": "code",
      "source": [
        "obj1.name"
      ],
      "metadata": {
        "colab": {
          "base_uri": "https://localhost:8080/",
          "height": 36
        },
        "id": "07lQphcHfUU0",
        "outputId": "86d7652a-6daa-444e-ae09-2b11a32cdce9"
      },
      "execution_count": null,
      "outputs": [
        {
          "output_type": "execute_result",
          "data": {
            "text/plain": [
              "'Khadija'"
            ],
            "application/vnd.google.colaboratory.intrinsic+json": {
              "type": "string"
            }
          },
          "metadata": {},
          "execution_count": 54
        }
      ]
    },
    {
      "cell_type": "code",
      "source": [
        "Person.get_total_persons()"
      ],
      "metadata": {
        "colab": {
          "base_uri": "https://localhost:8080/"
        },
        "id": "B2sIoAkogL7P",
        "outputId": "29798721-fe42-44ee-a008-b34be5233e0a"
      },
      "execution_count": null,
      "outputs": [
        {
          "output_type": "execute_result",
          "data": {
            "text/plain": [
              "4"
            ]
          },
          "metadata": {},
          "execution_count": 55
        }
      ]
    },
    {
      "cell_type": "markdown",
      "source": [
        "9). Write a class Fraction with attributes numerator and denominator. Override the str method to display the\n",
        "fraction as \"numerator/denominator\"."
      ],
      "metadata": {
        "id": "ZnyZbepYgX7v"
      }
    },
    {
      "cell_type": "code",
      "source": [
        "class Fraction:\n",
        "  def __init__(self,numerator,denominator):\n",
        "    self.numerator = numerator\n",
        "    self.denominator = denominator\n",
        "\n",
        "  def __str__(self):\n",
        "    return f\"{self.numerator}/{self.denominator}\""
      ],
      "metadata": {
        "id": "hw8ia-kA6pKN"
      },
      "execution_count": null,
      "outputs": []
    },
    {
      "cell_type": "code",
      "source": [
        "print(Fraction(35,56))"
      ],
      "metadata": {
        "colab": {
          "base_uri": "https://localhost:8080/"
        },
        "id": "HIfa_A1G9W8a",
        "outputId": "8e3d37b0-e672-4d8b-8c1b-778ed68d8ec5"
      },
      "execution_count": null,
      "outputs": [
        {
          "output_type": "stream",
          "name": "stdout",
          "text": [
            "35/56\n"
          ]
        }
      ]
    },
    {
      "cell_type": "markdown",
      "source": [
        "10) Demonstrate operator overloading by creating a class Vector and overriding the add method to add two\n",
        "vectors."
      ],
      "metadata": {
        "id": "7Lhf6536-ohO"
      }
    },
    {
      "cell_type": "code",
      "source": [
        "class Vector:\n",
        "  def __init__(self,nums):\n",
        "    self.nums = nums\n",
        "  def __add__(self,other):\n",
        "    return Vector(self.nums + other.nums)\n"
      ],
      "metadata": {
        "id": "6YgLOfzN9W7A"
      },
      "execution_count": 1,
      "outputs": []
    },
    {
      "cell_type": "code",
      "source": [
        "v1 = Vector([2,4,6])"
      ],
      "metadata": {
        "id": "UsbFajGrWBSf"
      },
      "execution_count": 2,
      "outputs": []
    },
    {
      "cell_type": "code",
      "source": [
        "v2 = Vector([3,5,7])"
      ],
      "metadata": {
        "id": "VDWs-nKHWMMg"
      },
      "execution_count": 3,
      "outputs": []
    },
    {
      "cell_type": "code",
      "source": [
        "v3 = v1 + v2"
      ],
      "metadata": {
        "id": "zWGfvMCfWMLY"
      },
      "execution_count": 4,
      "outputs": []
    },
    {
      "cell_type": "code",
      "source": [
        "print(v3.nums)"
      ],
      "metadata": {
        "colab": {
          "base_uri": "https://localhost:8080/"
        },
        "id": "3_AXn5LXWMJ-",
        "outputId": "9259c281-9b17-47ef-ef41-fad45771c57f"
      },
      "execution_count": 6,
      "outputs": [
        {
          "output_type": "stream",
          "name": "stdout",
          "text": [
            "[2, 4, 6, 3, 5, 7]\n"
          ]
        }
      ]
    },
    {
      "cell_type": "markdown",
      "source": [
        "11) Create a class Person with attributes name and age. Add a method greet() that prints \"Hello, my name is\n",
        "{name} and I am {age} years old.\""
      ],
      "metadata": {
        "id": "GxQksy7BATLI"
      }
    },
    {
      "cell_type": "code",
      "source": [
        "class Person:\n",
        "  def __init__(self,name,age):\n",
        "    self.name = name\n",
        "    self.age = age\n",
        "  def greet(self):\n",
        "    print(f\"Hello,my name is {self.name},and I am {self.age} years old\")"
      ],
      "metadata": {
        "id": "-IHZMSckAfPQ"
      },
      "execution_count": null,
      "outputs": []
    },
    {
      "cell_type": "code",
      "source": [
        "p1 = Person(\"Khadija\",36)"
      ],
      "metadata": {
        "id": "O_6HhH9oBOwc"
      },
      "execution_count": null,
      "outputs": []
    },
    {
      "cell_type": "code",
      "source": [
        "p1.greet()"
      ],
      "metadata": {
        "colab": {
          "base_uri": "https://localhost:8080/"
        },
        "id": "gnFKg8QMBOut",
        "outputId": "b7351fad-2940-41ab-b367-f6126fc1c5d3"
      },
      "execution_count": null,
      "outputs": [
        {
          "output_type": "stream",
          "name": "stdout",
          "text": [
            "Hello,my name is Khadija,and I am 36 years old\n"
          ]
        }
      ]
    },
    {
      "cell_type": "markdown",
      "source": [
        "12) Implement a class Student with attributes name and grades. Create a method average_grade() to compute\n",
        "the average of the grades."
      ],
      "metadata": {
        "id": "B5z8tBhCFrLM"
      }
    },
    {
      "cell_type": "code",
      "source": [
        "class Student:\n",
        "  def __init__(self,name,grades):\n",
        "    self.name = name\n",
        "    self.grades = grades\n",
        "\n",
        "  def calculate_avg_grade(self):\n",
        "    grades = self.grades\n",
        "    return sum(self.grades)/len(self.grades)"
      ],
      "metadata": {
        "id": "FmNnNRGJBLD5"
      },
      "execution_count": null,
      "outputs": []
    },
    {
      "cell_type": "code",
      "source": [
        "student1 = Student(\"John\",[80,76,54,67])"
      ],
      "metadata": {
        "id": "sWzHQz-sBLCZ"
      },
      "execution_count": null,
      "outputs": []
    },
    {
      "cell_type": "code",
      "source": [
        "student1.calculate_avg_grade()"
      ],
      "metadata": {
        "id": "LcAePlCJiZVz",
        "colab": {
          "base_uri": "https://localhost:8080/"
        },
        "outputId": "50e62a08-a201-4dcf-a29f-10629f795378"
      },
      "execution_count": null,
      "outputs": [
        {
          "output_type": "execute_result",
          "data": {
            "text/plain": [
              "69.25"
            ]
          },
          "metadata": {},
          "execution_count": 19
        }
      ]
    },
    {
      "cell_type": "code",
      "source": [
        "student2 = Student(\"Sam\",[45,90,63,73])"
      ],
      "metadata": {
        "id": "9dvWgoG3HYCD"
      },
      "execution_count": null,
      "outputs": []
    },
    {
      "cell_type": "code",
      "source": [
        "student2.calculate_avg_grade()"
      ],
      "metadata": {
        "colab": {
          "base_uri": "https://localhost:8080/"
        },
        "id": "-q52ISnDHYBI",
        "outputId": "7f33628f-8241-4dc8-d5c5-99c159649b56"
      },
      "execution_count": null,
      "outputs": [
        {
          "output_type": "execute_result",
          "data": {
            "text/plain": [
              "67.75"
            ]
          },
          "metadata": {},
          "execution_count": 21
        }
      ]
    },
    {
      "cell_type": "markdown",
      "source": [
        "13) Create a class Rectangle with methods set_dimensions() to set the dimensions and area() to calculate the area."
      ],
      "metadata": {
        "id": "UwG8LtDTHysh"
      }
    },
    {
      "cell_type": "code",
      "source": [
        "class Rectangle:\n",
        "  def __init__(self,length,breadth):\n",
        "    self.length = length\n",
        "    self.breadth = breadth\n",
        "\n",
        "  def set_dimensions(self):\n",
        "    length = self.length\n",
        "    breadth = self.breadth\n",
        "  def area(self):\n",
        "    return self.length*self.breadth"
      ],
      "metadata": {
        "id": "CzvFeMeiIerA"
      },
      "execution_count": null,
      "outputs": []
    },
    {
      "cell_type": "code",
      "source": [
        "obj = Rectangle(6,12)"
      ],
      "metadata": {
        "id": "-VkN5VgMQyRa"
      },
      "execution_count": null,
      "outputs": []
    },
    {
      "cell_type": "code",
      "source": [
        "obj.area()"
      ],
      "metadata": {
        "colab": {
          "base_uri": "https://localhost:8080/"
        },
        "id": "DBmPQ7ZxQyQS",
        "outputId": "114abfa7-e9f9-48d4-de9e-abd7f2d7a52c"
      },
      "execution_count": null,
      "outputs": [
        {
          "output_type": "execute_result",
          "data": {
            "text/plain": [
              "72"
            ]
          },
          "metadata": {},
          "execution_count": 25
        }
      ]
    },
    {
      "cell_type": "code",
      "source": [
        "obj.set_dimensions()"
      ],
      "metadata": {
        "id": "Zk1QBXTzRFJT"
      },
      "execution_count": null,
      "outputs": []
    },
    {
      "cell_type": "markdown",
      "source": [],
      "metadata": {
        "id": "mUR8TJ_nHyrH"
      }
    },
    {
      "cell_type": "code",
      "source": [
        "obj.length"
      ],
      "metadata": {
        "colab": {
          "base_uri": "https://localhost:8080/"
        },
        "id": "Pfg50M4RRQom",
        "outputId": "30597e09-5e85-4ed5-dd27-e64f15c2ab79"
      },
      "execution_count": null,
      "outputs": [
        {
          "output_type": "execute_result",
          "data": {
            "text/plain": [
              "6"
            ]
          },
          "metadata": {},
          "execution_count": 28
        }
      ]
    },
    {
      "cell_type": "markdown",
      "source": [],
      "metadata": {
        "id": "fIYF-otuHypx"
      }
    },
    {
      "cell_type": "code",
      "source": [
        "obj.breadth"
      ],
      "metadata": {
        "colab": {
          "base_uri": "https://localhost:8080/"
        },
        "id": "yvRe-s6tRXWS",
        "outputId": "8eb49eab-bfe1-45b6-eb28-aad8fc0420e7"
      },
      "execution_count": null,
      "outputs": [
        {
          "output_type": "execute_result",
          "data": {
            "text/plain": [
              "12"
            ]
          },
          "metadata": {},
          "execution_count": 30
        }
      ]
    },
    {
      "cell_type": "markdown",
      "source": [
        "14) Create a class Employee with a method calculate_salary() that computes the salary based on hours worked\n",
        "and hourly rate. Create a derived class Manager that adds a bonus to the salary"
      ],
      "metadata": {
        "id": "Zl63S7PsRlGy"
      }
    },
    {
      "cell_type": "code",
      "source": [
        "class Employee:\n",
        "  def __init__(self,hourly_rate,hours_worked):\n",
        "    self.hourly_rate = hourly_rate\n",
        "    self.hours_worked = hours_worked\n",
        "  def calculate_salary(self):\n",
        "    return self.hourly_rate * self.hours_worked\n",
        "class Manager(Employee):\n",
        "  def __init__(self,hourly_rate,hours_worked):\n",
        "    super().__init__(hourly_rate,hours_worked)\n",
        "\n",
        "  def get_salary(self,bonus):\n",
        "    self.bonus = bonus\n",
        "\n",
        "    base_salary = super().calculate_salary()\n",
        "\n",
        "    return (base_salary)+self.bonus"
      ],
      "metadata": {
        "id": "i5840HvKRv6Z"
      },
      "execution_count": null,
      "outputs": []
    },
    {
      "cell_type": "code",
      "source": [
        "obj1 = Employee(500,8)\n",
        "obj1.calculate_salary()"
      ],
      "metadata": {
        "id": "YhxfspDeHYAB",
        "colab": {
          "base_uri": "https://localhost:8080/"
        },
        "outputId": "4147e5b0-f17e-4986-f084-9bc3faa067e5"
      },
      "execution_count": null,
      "outputs": [
        {
          "output_type": "execute_result",
          "data": {
            "text/plain": [
              "4000"
            ]
          },
          "metadata": {},
          "execution_count": 20
        }
      ]
    },
    {
      "cell_type": "code",
      "source": [
        "obj1.hourly_rate"
      ],
      "metadata": {
        "colab": {
          "base_uri": "https://localhost:8080/"
        },
        "id": "44BFNn751CnK",
        "outputId": "165e48e2-c6cf-4d65-c0d5-3d8cb4f2fa7a"
      },
      "execution_count": null,
      "outputs": [
        {
          "output_type": "execute_result",
          "data": {
            "text/plain": [
              "500"
            ]
          },
          "metadata": {},
          "execution_count": 21
        }
      ]
    },
    {
      "cell_type": "code",
      "source": [
        "obj1 = Manager(500,8)"
      ],
      "metadata": {
        "id": "pX4U2TN11tph"
      },
      "execution_count": null,
      "outputs": []
    },
    {
      "cell_type": "code",
      "source": [
        "obj1.get_salary(1000)"
      ],
      "metadata": {
        "colab": {
          "base_uri": "https://localhost:8080/"
        },
        "id": "QBlbaCuv1-3G",
        "outputId": "d8becc3c-7334-4fee-9e17-c7ef182c07bb"
      },
      "execution_count": null,
      "outputs": [
        {
          "output_type": "execute_result",
          "data": {
            "text/plain": [
              "5000"
            ]
          },
          "metadata": {},
          "execution_count": 23
        }
      ]
    },
    {
      "cell_type": "markdown",
      "source": [
        "15) Create a class Product with attributes name, price, and quantity. Implement a method total_price() that\n",
        "calculates the total price of the product.\n",
        "\n",
        "\n"
      ],
      "metadata": {
        "id": "avqgEvWOOPVn"
      }
    },
    {
      "cell_type": "code",
      "source": [
        "class Product:\n",
        "  def __init__(self,name,price,quantity):\n",
        "    self.name = name\n",
        "    self.price = price\n",
        "    self.quantity = quantity\n",
        "  def total_price(self):\n",
        "    return self.price * self.quantity"
      ],
      "metadata": {
        "id": "bv3O-D5fOXsa"
      },
      "execution_count": null,
      "outputs": []
    },
    {
      "cell_type": "code",
      "source": [
        "p1 = Product(\"lipstick\",700,2)\n",
        "p1.total_price()"
      ],
      "metadata": {
        "colab": {
          "base_uri": "https://localhost:8080/"
        },
        "id": "gKso735rP70R",
        "outputId": "58c04c57-a5a3-44da-9d34-0b44f83a28cf"
      },
      "execution_count": null,
      "outputs": [
        {
          "output_type": "execute_result",
          "data": {
            "text/plain": [
              "1400"
            ]
          },
          "metadata": {},
          "execution_count": 29
        }
      ]
    },
    {
      "cell_type": "code",
      "source": [
        "p2 = Product(\"perfume\",1500,3)\n",
        "p2.total_price()"
      ],
      "metadata": {
        "colab": {
          "base_uri": "https://localhost:8080/"
        },
        "id": "nt3ouJZeP7x_",
        "outputId": "50fb01ee-1341-4a6e-ab43-8dee40ae3bfc"
      },
      "execution_count": null,
      "outputs": [
        {
          "output_type": "execute_result",
          "data": {
            "text/plain": [
              "4500"
            ]
          },
          "metadata": {},
          "execution_count": 30
        }
      ]
    },
    {
      "cell_type": "code",
      "source": [
        "p3 = Product(\"Dress\",3000,4)"
      ],
      "metadata": {
        "id": "4zjJ3fIDQxKm"
      },
      "execution_count": null,
      "outputs": []
    },
    {
      "cell_type": "code",
      "source": [
        "p3.total_price()"
      ],
      "metadata": {
        "colab": {
          "base_uri": "https://localhost:8080/"
        },
        "id": "NG3dDUlHQxJX",
        "outputId": "2549732a-f6df-4ff0-8b55-b577f2cd780b"
      },
      "execution_count": null,
      "outputs": [
        {
          "output_type": "execute_result",
          "data": {
            "text/plain": [
              "12000"
            ]
          },
          "metadata": {},
          "execution_count": 34
        }
      ]
    },
    {
      "cell_type": "markdown",
      "source": [
        "16. Create a class Animal with an abstract method sound(). Create two derived classes Cow and Sheep that\n",
        "implement the sound() method."
      ],
      "metadata": {
        "id": "VDqHsO4nRa1m"
      }
    },
    {
      "cell_type": "code",
      "source": [
        "import abc\n",
        "class Animal:\n",
        "  @abc.abstractmethod\n",
        "  def sound(self):\n",
        "    pass\n",
        "class Cow(Animal):\n",
        "  def sound(self):\n",
        "    print(\"inside the cow class\")\n",
        "\n",
        "class Sheep(Animal):\n",
        "  def sound(self):\n",
        "    print(\"inside the sheep class \")\n"
      ],
      "metadata": {
        "id": "T3wvFLVIRdUa"
      },
      "execution_count": null,
      "outputs": []
    },
    {
      "cell_type": "code",
      "source": [
        "obj = Animal()\n",
        "obj.sound()"
      ],
      "metadata": {
        "id": "PpYVpPmxiHnC"
      },
      "execution_count": null,
      "outputs": []
    },
    {
      "cell_type": "code",
      "source": [
        "obj =Cow()\n",
        "obj.sound()"
      ],
      "metadata": {
        "colab": {
          "base_uri": "https://localhost:8080/"
        },
        "id": "Qk9L0Zz_iHli",
        "outputId": "d0bfbc5d-95a8-4eb0-a2bc-e61fcc439199"
      },
      "execution_count": null,
      "outputs": [
        {
          "output_type": "stream",
          "name": "stdout",
          "text": [
            "inside the cow class\n"
          ]
        }
      ]
    },
    {
      "cell_type": "code",
      "source": [
        "obj = Sheep()\n",
        "obj.sound()"
      ],
      "metadata": {
        "colab": {
          "base_uri": "https://localhost:8080/"
        },
        "id": "tatzGKX6iHkc",
        "outputId": "799a3b77-06ca-439f-9641-91c8f3b12902"
      },
      "execution_count": null,
      "outputs": [
        {
          "output_type": "stream",
          "name": "stdout",
          "text": [
            "inside the sheep class \n"
          ]
        }
      ]
    },
    {
      "cell_type": "markdown",
      "source": [
        "17. Create a class Book with attributes title, author, and year_published. Add a method get_book_info() that\n",
        "returns a formatted string with the book's details."
      ],
      "metadata": {
        "id": "uRYbBeUPjUPV"
      }
    },
    {
      "cell_type": "code",
      "source": [
        "class Book:\n",
        "  def __init__(self,title,author,year):\n",
        "    self.title = title\n",
        "    self.author = author\n",
        "    self.year = year\n",
        "\n",
        "  def get_book_info(self):\n",
        "    return(f\"Book Title\",{self.title},\"Author of the book\",{self.author},\"Year the book published\",{self.year})"
      ],
      "metadata": {
        "id": "QY3LnWJljWxN"
      },
      "execution_count": null,
      "outputs": []
    },
    {
      "cell_type": "code",
      "source": [
        "b1 =Book(\"Data Analytics\",\"Murphy\",\"1986\")"
      ],
      "metadata": {
        "id": "YJ7vVsqfiHjH"
      },
      "execution_count": null,
      "outputs": []
    },
    {
      "cell_type": "code",
      "source": [
        "b1.get_book_info()"
      ],
      "metadata": {
        "colab": {
          "base_uri": "https://localhost:8080/"
        },
        "id": "5rIp4yjslr4d",
        "outputId": "e3cc3037-0252-4119-fb51-acf9350f7213"
      },
      "execution_count": null,
      "outputs": [
        {
          "output_type": "execute_result",
          "data": {
            "text/plain": [
              "('Book Title',\n",
              " {'Data Analytics'},\n",
              " 'Author of the book',\n",
              " {'Murphy'},\n",
              " 'Year the book published',\n",
              " {'1986'})"
            ]
          },
          "metadata": {},
          "execution_count": 18
        }
      ]
    },
    {
      "cell_type": "markdown",
      "source": [
        "18)Create a class House with attributes address and price. Create a derived class Mansion that adds an\n",
        "attribute number_of_rooms"
      ],
      "metadata": {
        "id": "ys8V99YBmWgi"
      }
    },
    {
      "cell_type": "code",
      "source": [
        "class House:\n",
        "  def __init__(self,address,price):\n",
        "    self.address = address\n",
        "    self.price = price\n",
        "class Mansion(House):\n",
        "  def __init__(self,address,price,no_of_rooms):\n",
        "    super().__init__(address,price)\n",
        "    self.no_of_rooms = no_of_rooms\n",
        "\n",
        "  def get_attributes(self):\n",
        "    return self.address,self.price,self.no_of_rooms"
      ],
      "metadata": {
        "id": "LqJCjzw31zeM"
      },
      "execution_count": null,
      "outputs": []
    },
    {
      "cell_type": "code",
      "source": [
        "h1 = House(\"Nariman Point\",4000)"
      ],
      "metadata": {
        "id": "iJxFvWbi1zcU"
      },
      "execution_count": null,
      "outputs": []
    },
    {
      "cell_type": "code",
      "source": [
        "h1 = Mansion(\"Nariman Point\",4000,2)"
      ],
      "metadata": {
        "id": "AHffdfls5fgL"
      },
      "execution_count": null,
      "outputs": []
    },
    {
      "cell_type": "code",
      "source": [
        "h1.get_attributes()"
      ],
      "metadata": {
        "colab": {
          "base_uri": "https://localhost:8080/"
        },
        "id": "72pKpCxv5fd3",
        "outputId": "081b00bf-2ada-407f-90ec-7de217bee54c"
      },
      "execution_count": null,
      "outputs": [
        {
          "output_type": "execute_result",
          "data": {
            "text/plain": [
              "('Nariman Point', 4000, 2)"
            ]
          },
          "metadata": {},
          "execution_count": 5
        }
      ]
    },
    {
      "cell_type": "markdown",
      "source": [],
      "metadata": {
        "id": "ZeRM82CPmWfP"
      }
    },
    {
      "cell_type": "code",
      "source": [],
      "metadata": {
        "id": "vVOdlNoIlr3O"
      },
      "execution_count": null,
      "outputs": []
    },
    {
      "cell_type": "markdown",
      "source": [],
      "metadata": {
        "id": "UUmXs_-TRa0P"
      }
    },
    {
      "cell_type": "code",
      "source": [],
      "metadata": {
        "id": "7d6hoyaNlqES"
      },
      "execution_count": null,
      "outputs": []
    },
    {
      "cell_type": "markdown",
      "source": [],
      "metadata": {
        "id": "r63fOcVbOPTK"
      }
    },
    {
      "cell_type": "code",
      "source": [],
      "metadata": {
        "id": "CTcCmL2KOXu7"
      },
      "execution_count": null,
      "outputs": []
    },
    {
      "cell_type": "code",
      "source": [],
      "metadata": {
        "id": "FdehPBMyOXt3"
      },
      "execution_count": null,
      "outputs": []
    },
    {
      "cell_type": "code",
      "source": [],
      "metadata": {
        "id": "ZqAXcN9-1-1-"
      },
      "execution_count": null,
      "outputs": []
    },
    {
      "cell_type": "code",
      "source": [],
      "metadata": {
        "id": "n3azJ_7g1-0x"
      },
      "execution_count": null,
      "outputs": []
    },
    {
      "cell_type": "markdown",
      "source": [
        "# \\"
      ],
      "metadata": {
        "id": "6NjelqEQgX6w"
      }
    },
    {
      "cell_type": "markdown",
      "source": [],
      "metadata": {
        "id": "1jOze8rggX5l"
      }
    },
    {
      "cell_type": "code",
      "source": [],
      "metadata": {
        "id": "y7cxCnJ4gL6M"
      },
      "execution_count": null,
      "outputs": []
    },
    {
      "cell_type": "markdown",
      "source": [],
      "metadata": {
        "id": "nCDkp487TUyF"
      }
    },
    {
      "cell_type": "code",
      "source": [],
      "metadata": {
        "id": "oVDQX-PaR_Vt"
      },
      "execution_count": null,
      "outputs": []
    },
    {
      "cell_type": "code",
      "source": [],
      "metadata": {
        "id": "il4UTGVdRma0"
      },
      "execution_count": null,
      "outputs": []
    }
  ]
}